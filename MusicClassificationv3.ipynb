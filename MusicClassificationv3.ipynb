{
 "cells": [
  {
   "cell_type": "markdown",
   "metadata": {
    "colab_type": "text",
    "id": "7X43RThI7JVQ"
   },
   "source": [
    "# Music genre classification\n",
    "\n",
    "This project aims at creation Convolutional neural network for music classifiction. Data used for the project is taken from https://github.com/mdeff/fma \n",
    "\n",
    "## DATA\n",
    "All metadata and features for all tracks are distributed in fma_metadata.zip (342 MiB). The below tables can be used with pandas or any other data analysis tool. S\n",
    "\n",
    "tracks.csv: per track metadata such as ID, title, artist, genres, tags and play counts, for all 106,574 tracks.\n",
    "\n",
    "genres.csv: all 163 genre IDs with their name and parent (used to infer the genre hierarchy and top-level genres).\n",
    "\n",
    "features.csv: common features extracted with librosa.\n",
    "\n",
    "echonest.csv: audio features provided by Echonest (now Spotify) for a subset of 13,129 tracks.\n",
    "\n",
    "Then, you got various sizes of MP3-encoded audio data:\n",
    "\n",
    "fma_small.zip: 8,000 tracks of 30s, 8 balanced genres (GTZAN-like) (7.2 GiB) \n",
    "\n",
    "fma_medium.zip: 25,000 tracks of 30s, 16 unbalanced genres (22 GiB) \n",
    "\n",
    "fma_large.zip: 106,574 tracks of 30s, 161 unbalanced genres (93 GiB) \n",
    "\n",
    "fma_full.zip: 106,574 untrimmed tracks, 161 unbalanced genres (879 GiB) \n",
    "\n",
    "Due to limited time and computing capabilities fma_small.zip archive was used.\n"
   ]
  },
  {
   "cell_type": "markdown",
   "metadata": {
    "colab_type": "text",
    "id": "Xn0Cu0UE06IL"
   },
   "source": [
    "# Install Deps\n"
   ]
  },
  {
   "cell_type": "code",
   "execution_count": 3,
   "metadata": {
    "colab": {
     "base_uri": "https://localhost:8080/",
     "height": 50
    },
    "colab_type": "code",
    "executionInfo": {
     "elapsed": 4157,
     "status": "ok",
     "timestamp": 1579770343144,
     "user": {
      "displayName": "Emil Georgiev",
      "photoUrl": "",
      "userId": "03754323831483749823"
     },
     "user_tz": -120
    },
    "id": "mafAOV9n7dCw",
    "outputId": "93d26995-8095-476a-9d81-a9bb84e39661"
   },
   "outputs": [
    {
     "name": "stdout",
     "output_type": "stream",
     "text": [
      "TensorFlow 2.x selected.\n",
      "<module 'tensorflow_core._api.v2.version' from '/tensorflow-2.1.0/python3.6/tensorflow_core/_api/v2/version/__init__.py'>\n"
     ]
    }
   ],
   "source": [
    "%tensorflow_version 2.x\n",
    "import tensorflow as tf \n",
    "import pandas as pd \n",
    "import numpy as np \n",
    "import matplotlib.pyplot as plt \n",
    "from sklearn.model_selection import train_test_split \n",
    "from tensorflow.keras.layers import Input, Conv2D, MaxPool2D, Flatten, BatchNormalization, Dense, Dropout \n",
    "from IPython.display import Image, display \n",
    "import datetime\n",
    "\n",
    "from google.colab import drive\n",
    "\n",
    "print(tf.version)\n",
    "\n",
    "#enable detailed output for troubleshooting and additional deatails on setup.\n",
    "tf.get_logger().setLevel('INFO')"
   ]
  },
  {
   "cell_type": "code",
   "execution_count": 4,
   "metadata": {
    "colab": {
     "base_uri": "https://localhost:8080/",
     "height": 34
    },
    "colab_type": "code",
    "executionInfo": {
     "elapsed": 653,
     "status": "ok",
     "timestamp": 1579770345034,
     "user": {
      "displayName": "Emil Georgiev",
      "photoUrl": "",
      "userId": "03754323831483749823"
     },
     "user_tz": -120
    },
    "id": "KHj-z24C8B2C",
    "outputId": "6ee78594-131b-4fa7-8d99-742c7153d87d"
   },
   "outputs": [
    {
     "name": "stdout",
     "output_type": "stream",
     "text": [
      "Drive already mounted at /content/drive; to attempt to forcibly remount, call drive.mount(\"/content/drive\", force_remount=True).\n"
     ]
    }
   ],
   "source": [
    "drive.mount('/content/drive')"
   ]
  },
  {
   "cell_type": "markdown",
   "metadata": {
    "colab_type": "text",
    "id": "yhCK-2e67JVS"
   },
   "source": [
    "## First step of the project was to process the MP3 files to spectograms. \n",
    "Spectogram is representaion of audio file as a picture where on the x axis is presented time, on y axis is presented frequency and audio amplitude is color coded. \n",
    "For prosessing of the audio file I used librosa library\n",
    "https://librosa.github.io/librosa/index.html\n",
    "\n",
    "![alt text](https://librosa.github.io/librosa/_images/librosa-decompose-decompose-1.png)\n",
    "\n",
    "With small function that is called for each file it was easy to construct the pictures (not part of this jypiter notebook)\n",
    "\n",
    "def Spect(f):\n",
    "    #F is file name\n",
    "    #Load the audio as a waveform `y`\n",
    "    #Store the sampling rate as `sr`\n",
    "    x, sr = sf.read(f, dtype='float32')\n",
    "    #performe fast Fourier transform\n",
    "    stft = np.abs(librosa.stft(x, n_fft=2048, hop_length=512))\n",
    "    mel = librosa.feature.melspectrogram(sr=sr, S=stft**2)\n",
    "    log_mel = librosa.amplitude_to_db(mel)\n",
    "    pylab.axis('off') # no axis\n",
    "    pylab.axes([0., 0., 1., 1.], frameon=False, xticks=[], yticks=[]) # Remove the white edge\n",
    "    librosa.display.specshow(log_mel, sr=sr, hop_length=512, x_axis='time', y_axis='mel')\n",
    "    pylab.savefig('Spectogram\\\\'+ f[4:][:8] +'.png', bbox_inches=None, pad_inches=0)\n",
    "    print('Spectogram\\\\'+ f[4:][:8] +'.png')\n",
    "    \n",
    "    \n",
    "Function trimmed the picture frame and axis information was hidden in order to avoid misleading the neural network on the next step. \n",
    "I have tested also few other options for spectrogram generation as librosa is slowing down over time when called for 8000 file and it looks like there is memmory leakeage as it was consuming a lot of memory. However other spectograms were not looking so nice as the one produced by librosa. Music Smaples are 30s long. I have used 10s out of each music file."
   ]
  },
  {
   "cell_type": "code",
   "execution_count": 5,
   "metadata": {
    "colab": {
     "base_uri": "https://localhost:8080/",
     "height": 465
    },
    "colab_type": "code",
    "executionInfo": {
     "elapsed": 2329,
     "status": "ok",
     "timestamp": 1579770352734,
     "user": {
      "displayName": "Emil Georgiev",
      "photoUrl": "",
      "userId": "03754323831483749823"
     },
     "user_tz": -120
    },
    "id": "tWu977hA7JVS",
    "outputId": "4e9f8886-25e4-436c-d010-b4acb5c529b2"
   },
   "outputs": [
    {
     "data": {
      "image/jpeg": "[encoded data removed]",
      "text/plain": [
       "<IPython.core.display.Image object>"
      ]
     },
     "metadata": {
      "tags": []
     },
     "output_type": "display_data"
    },
    {
     "data": {
      "image/jpeg": "[encoded data removed]",
      "text/plain": [
       "<IPython.core.display.Image object>"
      ]
     },
     "metadata": {
      "tags": []
     },
     "output_type": "display_data"
    }
   ],
   "source": [
    "#Spectogram examples used as input for neural network\n",
    "display(Image('drive/My Drive/MusicDeepL/Spectogram_JPG_dataset/000002.jpg'))\n",
    "display(Image('drive/My Drive/MusicDeepL/Spectogram_JPG_dataset/000005.jpg'))"
   ]
  },
  {
   "cell_type": "markdown",
   "metadata": {
    "colab_type": "text",
    "id": "pshy6xkkKS_J"
   },
   "source": [
    "# Inspect Data\n",
    "\n",
    "coming back to Free music acrive (FMA) I used tracks.csv to map the file names to genre. For this I would need file name and genre."
   ]
  },
  {
   "cell_type": "code",
   "execution_count": 0,
   "metadata": {
    "colab": {},
    "colab_type": "code",
    "id": "rCxz-LPL7JVW"
   },
   "outputs": [],
   "source": [
    "#importing only tracks, set_size and genre. Low_memory = False to skip the waring of type conversion.\n",
    "data = pd.read_csv('drive/My Drive/MusicDeepL/fma_metadata/tracks.csv', usecols=[0, 32, 40], low_memory=False)"
   ]
  },
  {
   "cell_type": "code",
   "execution_count": 7,
   "metadata": {
    "colab": {
     "base_uri": "https://localhost:8080/",
     "height": 195
    },
    "colab_type": "code",
    "executionInfo": {
     "elapsed": 623,
     "status": "ok",
     "timestamp": 1579770364504,
     "user": {
      "displayName": "Emil Georgiev",
      "photoUrl": "",
      "userId": "03754323831483749823"
     },
     "user_tz": -120
    },
    "id": "CPrhOi_-7JVY",
    "outputId": "1fc012f3-717d-4b26-f434-f58c4bd88213"
   },
   "outputs": [
    {
     "data": {
      "text/html": [
       "<div>\n",
       "<style scoped>\n",
       "    .dataframe tbody tr th:only-of-type {\n",
       "        vertical-align: middle;\n",
       "    }\n",
       "\n",
       "    .dataframe tbody tr th {\n",
       "        vertical-align: top;\n",
       "    }\n",
       "\n",
       "    .dataframe thead th {\n",
       "        text-align: right;\n",
       "    }\n",
       "</style>\n",
       "<table border=\"1\" class=\"dataframe\">\n",
       "  <thead>\n",
       "    <tr style=\"text-align: right;\">\n",
       "      <th></th>\n",
       "      <th>track_id</th>\n",
       "      <th>set_size</th>\n",
       "      <th>Genre</th>\n",
       "    </tr>\n",
       "  </thead>\n",
       "  <tbody>\n",
       "    <tr>\n",
       "      <th>0</th>\n",
       "      <td>NaN</td>\n",
       "      <td>subset</td>\n",
       "      <td>genre_top</td>\n",
       "    </tr>\n",
       "    <tr>\n",
       "      <th>1</th>\n",
       "      <td>track_id</td>\n",
       "      <td>NaN</td>\n",
       "      <td>NaN</td>\n",
       "    </tr>\n",
       "    <tr>\n",
       "      <th>2</th>\n",
       "      <td>2</td>\n",
       "      <td>small</td>\n",
       "      <td>Hip-Hop</td>\n",
       "    </tr>\n",
       "    <tr>\n",
       "      <th>3</th>\n",
       "      <td>3</td>\n",
       "      <td>medium</td>\n",
       "      <td>Hip-Hop</td>\n",
       "    </tr>\n",
       "    <tr>\n",
       "      <th>4</th>\n",
       "      <td>5</td>\n",
       "      <td>small</td>\n",
       "      <td>Hip-Hop</td>\n",
       "    </tr>\n",
       "  </tbody>\n",
       "</table>\n",
       "</div>"
      ],
      "text/plain": [
       "   track_id set_size      Genre\n",
       "0       NaN   subset  genre_top\n",
       "1  track_id      NaN        NaN\n",
       "2         2    small    Hip-Hop\n",
       "3         3   medium    Hip-Hop\n",
       "4         5    small    Hip-Hop"
      ]
     },
     "execution_count": 7,
     "metadata": {
      "tags": []
     },
     "output_type": "execute_result"
    }
   ],
   "source": [
    "#rename the DF columns\n",
    "data.rename(columns={'Unnamed: 0': 'track_id', 'set.1': 'set_size', 'track.7': 'Genre' }, inplace=True)\n",
    "data.head()"
   ]
  },
  {
   "cell_type": "code",
   "execution_count": 0,
   "metadata": {
    "colab": {},
    "colab_type": "code",
    "id": "39jNUM207JVa"
   },
   "outputs": [],
   "source": [
    "#select only data for the \"small\" dataset\n",
    "data = data[data.set_size == 'small']"
   ]
  },
  {
   "cell_type": "markdown",
   "metadata": {
    "colab_type": "text",
    "id": "6ToTLuow7JVc"
   },
   "source": [
    "AS there was a problem and tf.dataset complianign the my labels were string instead of float32, I did mapping from string to numer. Function below is doing the convertion. "
   ]
  },
  {
   "cell_type": "code",
   "execution_count": 0,
   "metadata": {
    "colab": {},
    "colab_type": "code",
    "id": "zVz-QFHK7JVc"
   },
   "outputs": [],
   "source": [
    "def tran_cat_to_num(df):\n",
    "    if df['Genre'] == 'Electronic':\n",
    "        return 1\n",
    "    elif df['Genre'] == 'Experimental':\n",
    "        return 2\n",
    "    elif df['Genre'] == 'Folk':\n",
    "        return 3\n",
    "    elif df['Genre'] == 'Hip-Hop':\n",
    "        return 4\n",
    "    elif df['Genre'] == 'Instrumental':\n",
    "        return 5\n",
    "    elif df['Genre'] == 'International':\n",
    "        return 6\n",
    "    elif df['Genre'] == 'Pop':\n",
    "        return 7\n",
    "    elif df['Genre'] == 'Rock':\n",
    "        return 8\n",
    "# create sex_new \n",
    "data['Genre_new']=data.apply(tran_cat_to_num,axis=1)"
   ]
  },
  {
   "cell_type": "code",
   "execution_count": 10,
   "metadata": {
    "colab": {
     "base_uri": "https://localhost:8080/",
     "height": 34
    },
    "colab_type": "code",
    "executionInfo": {
     "elapsed": 822,
     "status": "ok",
     "timestamp": 1579770371003,
     "user": {
      "displayName": "Emil Georgiev",
      "photoUrl": "",
      "userId": "03754323831483749823"
     },
     "user_tz": -120
    },
    "id": "6HPri-O47JVe",
    "outputId": "174ceb65-2ec0-4e1d-88e9-5b4317a85326"
   },
   "outputs": [
    {
     "data": {
      "text/plain": [
       "0"
      ]
     },
     "execution_count": 10,
     "metadata": {
      "tags": []
     },
     "output_type": "execute_result"
    }
   ],
   "source": [
    "#check if there is NaN values\n",
    "data.isnull().sum().sum()"
   ]
  },
  {
   "cell_type": "code",
   "execution_count": 11,
   "metadata": {
    "colab": {
     "base_uri": "https://localhost:8080/",
     "height": 269
    },
    "colab_type": "code",
    "executionInfo": {
     "elapsed": 993,
     "status": "ok",
     "timestamp": 1579770372861,
     "user": {
      "displayName": "Emil Georgiev",
      "photoUrl": "",
      "userId": "03754323831483749823"
     },
     "user_tz": -120
    },
    "id": "I55FjqekKXcH",
    "outputId": "11c92a26-c3d6-4711-9870-e47b67d9286d"
   },
   "outputs": [
    {
     "name": "stdout",
     "output_type": "stream",
     "text": [
      "         Genre_new\n",
      "count  8000.000000\n",
      "mean      4.500000\n",
      "std       2.291431\n",
      "min       1.000000\n",
      "25%       2.750000\n",
      "50%       4.500000\n",
      "75%       6.250000\n",
      "max       8.000000\n",
      "   track_id set_size    Genre  Genre_new\n",
      "2         2    small  Hip-Hop          4\n",
      "4         5    small  Hip-Hop          4\n",
      "5        10    small      Pop          7\n",
      "17      140    small     Folk          3\n",
      "18      141    small     Folk          3\n"
     ]
    }
   ],
   "source": [
    "#check if data was loaded correct and check the content with \"head()\" 8K samples \n",
    "print(data.describe())\n",
    "print(data.head())"
   ]
  },
  {
   "cell_type": "markdown",
   "metadata": {
    "colab_type": "text",
    "id": "sZz_tVKHPG_A"
   },
   "source": [
    "# Preprocess Data\n",
    "I have tried 2 options here:\n",
    "1. I have sort the files in folders base on genre. Problem that occure here is that I had only one dataset. I have tried to split the data later using tf.dataset.take() and tf.dataset.skip() but for some reason the perfronace was no good, it took a lot of time to build shuffle buffer. \n",
    "\n",
    "\n",
    "    train_size = int(0.7 * len(filenames))\n",
    "    val_size = int(0.15 * len(filenames))\n",
    "    test_size = int(0.15 * len(filenames))\n",
    "    dataset = dataset.shuffle(buffer_size=(int(len(filenames))), reshuffle_each_iteration=False)\n",
    "    train_dataset = dataset.take(train_size)\n",
    "    test_dataset = dataset.skip(train_size)\n",
    "    val_dataset = test_dataset.skip(test_size)\n",
    "    test_dataset = test_dataset.take(test_size)\n",
    "\n",
    "\n",
    "\n",
    "2. Option 2 was to use sklearn train_test_spilt and to apply this on the train.csv and files. In this case I had two data sets and I have build 2 tf.dataset as separate ones. This solution was working smooth and I have decide (even that the course trainer stressed not to mix the tensorflow and sklearn) to use this option as the split was done before buidling the datasets."
   ]
  },
  {
   "cell_type": "code",
   "execution_count": 12,
   "metadata": {
    "colab": {
     "base_uri": "https://localhost:8080/",
     "height": 34
    },
    "colab_type": "code",
    "executionInfo": {
     "elapsed": 644,
     "status": "ok",
     "timestamp": 1579770375997,
     "user": {
      "displayName": "Emil Georgiev",
      "photoUrl": "",
      "userId": "03754323831483749823"
     },
     "user_tz": -120
    },
    "id": "h3-YukDsRzim",
    "outputId": "d749a2f8-75ce-4d0e-999b-5ee86e8539bd"
   },
   "outputs": [
    {
     "name": "stdout",
     "output_type": "stream",
     "text": [
      "7200 800\n"
     ]
    }
   ],
   "source": [
    "#zfill is addinf leading zeros in order that files names in formata 000002.jpg match with the track id 2\n",
    "filenames = ['drive/My Drive/MusicDeepL/Spectogram_JPG_dataset/' + fname.zfill(6)+'.jpg' for fname in data['track_id'].tolist()]\n",
    "labels = data['Genre_new'].tolist()\n",
    "\n",
    "\n",
    "train_filenames, val_filenames, train_labels, val_labels = train_test_split(filenames,\n",
    "                                                                            labels,\n",
    "                                                                            train_size=0.9,\n",
    "                                                                            random_state=42)\n",
    "\n",
    "#get the lenght of the lists. I would need them later to estimate the steps.\n",
    "num_train = len(train_filenames)\n",
    "num_val = len(val_filenames)\n",
    "print(num_train, num_val)"
   ]
  },
  {
   "cell_type": "code",
   "execution_count": 0,
   "metadata": {
    "colab": {},
    "colab_type": "code",
    "id": "cGU129RExw5h"
   },
   "outputs": [],
   "source": [
    "#set the image size. Original files we resized to 224x224. as I do not have enough processing power. \n",
    "#If I do not have time to train the models I will reduce the size\n",
    "IMAGE_SIZE = 224\n",
    "\n",
    "#this funstion is called to tf.dataset pipeline creations as explained \n",
    "#here: https://www.tensorflow.org/guide/data#consuming_numpy_arrays\n",
    "def _parse_fn(filename, label):\n",
    "    image_string = tf.io.read_file(filename)\n",
    "    image_decoded = tf.image.decode_jpeg(image_string)\n",
    "    image_normalized = (tf.cast(image_decoded, tf.float32)/127.5) - 1\n",
    "    image_resized = tf.image.resize(image_normalized, (IMAGE_SIZE, IMAGE_SIZE))\n",
    "    return image_resized, label"
   ]
  },
  {
   "cell_type": "markdown",
   "metadata": {
    "colab_type": "text",
    "id": "azQqVqrCWiYw"
   },
   "source": [
    "#Model parameters"
   ]
  },
  {
   "cell_type": "code",
   "execution_count": 0,
   "metadata": {
    "colab": {},
    "colab_type": "code",
    "id": "YQ2GlcZpK58G"
   },
   "outputs": [],
   "source": [
    "BATCH_SIZE = 32\n",
    "#train tf.dataset from pipelines\n",
    "train_data = tf.data.Dataset.from_tensor_slices((tf.constant(train_filenames), tf.constant(train_labels))).map(_parse_fn).shuffle(buffer_size=num_train).batch(BATCH_SIZE)\n",
    "#valiation tf.dataset from pipelines\n",
    "val_data = tf.data.Dataset.from_tensor_slices((tf.constant(val_filenames), tf.constant(val_labels))).map(_parse_fn).batch(BATCH_SIZE)"
   ]
  },
  {
   "cell_type": "code",
   "execution_count": 0,
   "metadata": {
    "colab": {},
    "colab_type": "code",
    "id": "h3Vt7V4MLKSf"
   },
   "outputs": [],
   "source": [
    "learning_rate = 0.001\n",
    "IMG_SHAPE = (IMAGE_SIZE, IMAGE_SIZE, 3)"
   ]
  },
  {
   "cell_type": "code",
   "execution_count": 0,
   "metadata": {
    "colab": {},
    "colab_type": "code",
    "id": "LlhFGT5CPROa"
   },
   "outputs": [],
   "source": [
    "num_epochs = 30\n",
    "steps_per_epoch = round(num_train)//BATCH_SIZE\n",
    "val_steps = 30"
   ]
  },
  {
   "cell_type": "markdown",
   "metadata": {
    "colab_type": "text",
    "id": "29ztNoopPKpo"
   },
   "source": [
    "# Define Model 1"
   ]
  },
  {
   "cell_type": "code",
   "execution_count": 0,
   "metadata": {
    "colab": {},
    "colab_type": "code",
    "id": "uj728j0p7JVy"
   },
   "outputs": [],
   "source": [
    "#crete tensor board logs\n",
    "log_dir=\"drive/My Drive/MusicDeepL/logsModel1/fit/\" + datetime.datetime.now().strftime(\"%Y%m%d-%H%M%S\")\n",
    "tensorboard_callback = tf.keras.callbacks.TensorBoard(log_dir=log_dir, histogram_freq=1)"
   ]
  },
  {
   "cell_type": "markdown",
   "metadata": {
    "colab_type": "text",
    "id": "f1TtBQdD7JVp"
   },
   "source": [
    "Transfer learning speeds up training by enabling us to reuse existing pre-trained image classification models, only retraining the top layer of the network that determines the classes an image can belong to.\n",
    "\n",
    "![alt text](https://miro.medium.com/max/999/1*5F4b6ggZY7hlvGHxbrhTyA.png)"
   ]
  },
  {
   "cell_type": "code",
   "execution_count": 0,
   "metadata": {
    "colab": {},
    "colab_type": "code",
    "id": "60OZjAI6PPV2"
   },
   "outputs": [],
   "source": [
    "# Base model with MobileNetV2\n",
    "#detailes about MobileNetv2 https://arxiv.org/abs/1801.04381\n",
    "\n",
    "\n",
    "base_model = tf.keras.applications.MobileNetV2(input_shape=IMG_SHAPE,\n",
    "                                               include_top=False, \n",
    "                                               weights='imagenet')\n",
    "base_model.trainable = False"
   ]
  },
  {
   "cell_type": "code",
   "execution_count": 45,
   "metadata": {
    "colab": {
     "base_uri": "https://localhost:8080/",
     "height": 454
    },
    "colab_type": "code",
    "executionInfo": {
     "elapsed": 2252,
     "status": "ok",
     "timestamp": 1579780788355,
     "user": {
      "displayName": "Emil Georgiev",
      "photoUrl": "",
      "userId": "03754323831483749823"
     },
     "user_tz": -120
    },
    "id": "hS6vE25E7Wzq",
    "outputId": "2109bf2f-faa5-4d8d-83d9-b51dd7705327"
   },
   "outputs": [
    {
     "name": "stdout",
     "output_type": "stream",
     "text": [
      "Model: \"sequential_4\"\n",
      "_________________________________________________________________\n",
      "Layer (type)                 Output Shape              Param #   \n",
      "=================================================================\n",
      "mobilenetv2_1.00_224 (Model) (None, 7, 7, 1280)        2257984   \n",
      "_________________________________________________________________\n",
      "max_pooling2d_6 (MaxPooling2 (None, 3, 3, 1280)        0         \n",
      "_________________________________________________________________\n",
      "batch_normalization_6 (Batch (None, 3, 3, 1280)        5120      \n",
      "_________________________________________________________________\n",
      "flatten_4 (Flatten)          (None, 11520)             0         \n",
      "_________________________________________________________________\n",
      "dense_9 (Dense)              (None, 128)               1474688   \n",
      "_________________________________________________________________\n",
      "dropout_5 (Dropout)          (None, 128)               0         \n",
      "_________________________________________________________________\n",
      "dense_10 (Dense)             (None, 64)                8256      \n",
      "_________________________________________________________________\n",
      "dropout_6 (Dropout)          (None, 64)                0         \n",
      "_________________________________________________________________\n",
      "dense_11 (Dense)             (None, 8)                 520       \n",
      "=================================================================\n",
      "Total params: 3,746,568\n",
      "Trainable params: 1,486,024\n",
      "Non-trainable params: 2,260,544\n",
      "_________________________________________________________________\n"
     ]
    }
   ],
   "source": [
    "\n",
    "model1 = tf.keras.Sequential([\n",
    "    base_model,\n",
    "    MaxPool2D(),\n",
    "     \n",
    "    #Normalize the activations of the previous layer at each batch, i.e. applies a transformation that \n",
    "    #maintains the mean activation close to 0 and the activation standard deviation close to 1.\n",
    "    BatchNormalization(),\n",
    "    #Flattens the input. Does not affect the batch size.\n",
    "    Flatten(),\n",
    "    Dense(128, activation='relu'),\n",
    "    Dropout(0.1),\n",
    "    Dense(64, activation='relu'),\n",
    "    Dropout(0.1),\n",
    "    Dense(8, activation='sigmoid')\n",
    "])\n",
    "\n",
    "\n",
    "model1.compile(optimizer=tf.keras.optimizers.Adam(lr=learning_rate),\n",
    "             loss='categorical_crossentropy',\n",
    "             metrics=['accuracy'])\n",
    "\n",
    "model1.summary()"
   ]
  },
  {
   "cell_type": "markdown",
   "metadata": {
    "colab_type": "text",
    "id": "iknJ269VPOiw"
   },
   "source": [
    "### Train model 1"
   ]
  },
  {
   "cell_type": "code",
   "execution_count": 46,
   "metadata": {
    "colab": {
     "base_uri": "https://localhost:8080/",
     "height": 1000
    },
    "colab_type": "code",
    "executionInfo": {
     "elapsed": 918257,
     "status": "ok",
     "timestamp": 1579781711763,
     "user": {
      "displayName": "Emil Georgiev",
      "photoUrl": "",
      "userId": "03754323831483749823"
     },
     "user_tz": -120
    },
    "id": "eENW-XWo-O2T",
    "outputId": "0b424304-2fc9-468c-8b0f-f968a4c936d7"
   },
   "outputs": [
    {
     "name": "stdout",
     "output_type": "stream",
     "text": [
      "Train for 225 steps, validate for 30 steps\n",
      "Epoch 1/30\n",
      "225/225 [==============================] - 35s 158ms/step - loss: 74.8733 - accuracy: 0.3483 - val_loss: 75.1547 - val_accuracy: 0.7083\n",
      "Epoch 2/30\n",
      "225/225 [==============================] - 29s 127ms/step - loss: 74.7600 - accuracy: 0.5314 - val_loss: 75.1545 - val_accuracy: 0.0469\n",
      "Epoch 3/30\n",
      "225/225 [==============================] - 30s 133ms/step - loss: 74.7581 - accuracy: 0.5090 - val_loss: 75.1545 - val_accuracy: 0.6719\n",
      "Epoch 4/30\n",
      "225/225 [==============================] - 29s 129ms/step - loss: 74.7562 - accuracy: 0.7215 - val_loss: 75.1545 - val_accuracy: 0.3146\n",
      "Epoch 5/30\n",
      "225/225 [==============================] - 30s 135ms/step - loss: 74.7564 - accuracy: 0.7725 - val_loss: 75.1545 - val_accuracy: 0.4187\n",
      "Epoch 6/30\n",
      "225/225 [==============================] - 29s 129ms/step - loss: 74.7562 - accuracy: 0.7811 - val_loss: 75.1545 - val_accuracy: 0.3542\n",
      "Epoch 7/30\n",
      "225/225 [==============================] - 29s 129ms/step - loss: 74.7561 - accuracy: 0.8261 - val_loss: 75.1545 - val_accuracy: 0.5510\n",
      "Epoch 8/30\n",
      "225/225 [==============================] - 29s 128ms/step - loss: 74.7564 - accuracy: 0.8629 - val_loss: 75.1545 - val_accuracy: 0.7625\n",
      "Epoch 9/30\n",
      "225/225 [==============================] - 29s 129ms/step - loss: 74.7560 - accuracy: 0.8767 - val_loss: 75.1545 - val_accuracy: 0.7063\n",
      "Epoch 10/30\n",
      "225/225 [==============================] - 29s 129ms/step - loss: 74.7560 - accuracy: 0.8813 - val_loss: 75.1545 - val_accuracy: 0.7458\n",
      "Epoch 11/30\n",
      "225/225 [==============================] - 29s 131ms/step - loss: 74.7559 - accuracy: 0.8872 - val_loss: 75.1545 - val_accuracy: 0.7563\n",
      "Epoch 12/30\n",
      "225/225 [==============================] - 30s 133ms/step - loss: 74.7560 - accuracy: 0.8886 - val_loss: 75.1545 - val_accuracy: 0.7708\n",
      "Epoch 13/30\n",
      "225/225 [==============================] - 30s 134ms/step - loss: 74.7560 - accuracy: 0.8999 - val_loss: 75.1545 - val_accuracy: 0.7573\n",
      "Epoch 14/30\n",
      "225/225 [==============================] - 31s 139ms/step - loss: 74.7562 - accuracy: 0.9028 - val_loss: 75.1545 - val_accuracy: 0.7688\n",
      "Epoch 15/30\n",
      "225/225 [==============================] - 31s 139ms/step - loss: 74.7560 - accuracy: 0.9344 - val_loss: 75.1545 - val_accuracy: 0.8865\n",
      "Epoch 16/30\n",
      "225/225 [==============================] - 31s 136ms/step - loss: 74.7560 - accuracy: 0.9294 - val_loss: 75.1545 - val_accuracy: 0.8219\n",
      "Epoch 17/30\n",
      "225/225 [==============================] - 31s 137ms/step - loss: 74.7559 - accuracy: 0.9264 - val_loss: 75.1545 - val_accuracy: 0.8281\n",
      "Epoch 18/30\n",
      "225/225 [==============================] - 30s 133ms/step - loss: 74.7559 - accuracy: 0.9147 - val_loss: 75.1545 - val_accuracy: 0.8177\n",
      "Epoch 19/30\n",
      "225/225 [==============================] - 31s 138ms/step - loss: 74.7561 - accuracy: 0.9504 - val_loss: 75.1545 - val_accuracy: 0.9719\n",
      "Epoch 20/30\n",
      "225/225 [==============================] - 31s 137ms/step - loss: 74.7559 - accuracy: 0.9647 - val_loss: 75.1545 - val_accuracy: 0.9708\n",
      "Epoch 21/30\n",
      "225/225 [==============================] - 31s 138ms/step - loss: 74.7559 - accuracy: 0.9664 - val_loss: 75.1545 - val_accuracy: 0.9708\n",
      "Epoch 22/30\n",
      "225/225 [==============================] - 32s 140ms/step - loss: 74.7559 - accuracy: 0.9661 - val_loss: 75.1545 - val_accuracy: 0.9708\n",
      "Epoch 23/30\n",
      "225/225 [==============================] - 31s 136ms/step - loss: 74.7559 - accuracy: 0.9682 - val_loss: 75.1545 - val_accuracy: 0.9708\n",
      "Epoch 24/30\n",
      "225/225 [==============================] - 31s 137ms/step - loss: 74.7559 - accuracy: 0.9683 - val_loss: 75.1545 - val_accuracy: 0.9719\n",
      "Epoch 25/30\n",
      "225/225 [==============================] - 32s 141ms/step - loss: 74.7559 - accuracy: 0.9717 - val_loss: 75.1545 - val_accuracy: 0.9729\n",
      "Epoch 26/30\n",
      "225/225 [==============================] - 33s 144ms/step - loss: 74.7559 - accuracy: 0.9689 - val_loss: 75.1545 - val_accuracy: 0.9729\n",
      "Epoch 27/30\n",
      "225/225 [==============================] - 30s 133ms/step - loss: 74.7559 - accuracy: 0.9688 - val_loss: 75.1545 - val_accuracy: 0.9729\n",
      "Epoch 28/30\n",
      "225/225 [==============================] - 31s 138ms/step - loss: 74.7559 - accuracy: 0.9701 - val_loss: 75.1545 - val_accuracy: 0.9729\n",
      "Epoch 29/30\n",
      "225/225 [==============================] - 31s 139ms/step - loss: 74.7559 - accuracy: 0.9685 - val_loss: 75.1545 - val_accuracy: 0.9729\n",
      "Epoch 30/30\n",
      "225/225 [==============================] - 32s 143ms/step - loss: 74.7559 - accuracy: 0.9722 - val_loss: 75.1545 - val_accuracy: 0.9750\n"
     ]
    }
   ],
   "source": [
    "history = model1.fit(train_data.repeat(),\n",
    "                    epochs=num_epochs,\n",
    "                    steps_per_epoch = steps_per_epoch,\n",
    "                    validation_data=val_data.repeat(), \n",
    "                    validation_steps=val_steps,\n",
    "                    callbacks=[tensorboard_callback])"
   ]
  },
  {
   "cell_type": "code",
   "execution_count": 0,
   "metadata": {
    "colab": {},
    "colab_type": "code",
    "id": "sjFrer4mGk_I"
   },
   "outputs": [],
   "source": [
    "# Save model weights\n",
    "model1.save_weights('drive/My Drive/MusicDeepL/weights_model_1.h5')"
   ]
  },
  {
   "cell_type": "code",
   "execution_count": 48,
   "metadata": {
    "colab": {
     "base_uri": "https://localhost:8080/",
     "height": 513
    },
    "colab_type": "code",
    "executionInfo": {
     "elapsed": 2385,
     "status": "ok",
     "timestamp": 1579782677073,
     "user": {
      "displayName": "Emil Georgiev",
      "photoUrl": "",
      "userId": "03754323831483749823"
     },
     "user_tz": -120
    },
    "id": "e3ilB5R6B0t9",
    "outputId": "8bff7d87-7199-4ca6-f5c3-18fbb2168d5a"
   },
   "outputs": [
    {
     "data": {
      "image/png": "[encoded data removed]",
      "text/plain": [
       "<Figure size 576x576 with 2 Axes>"
      ]
     },
     "metadata": {
      "tags": []
     },
     "output_type": "display_data"
    }
   ],
   "source": [
    "acc = history.history['accuracy']\n",
    "val_acc = history.history['val_accuracy']\n",
    "\n",
    "loss = history.history['loss']\n",
    "val_loss = history.history['val_loss']\n",
    "\n",
    "plt.figure(figsize=(8, 8))\n",
    "plt.subplot(2, 1, 1)\n",
    "plt.plot(acc, label='Training Accuracy')\n",
    "plt.plot(val_acc, label='Validation Accuracy')\n",
    "plt.legend(loc='lower right')\n",
    "plt.ylabel('Accuracy')\n",
    "plt.title('Training and Validation Accuracy')\n",
    "\n",
    "plt.subplot(2, 1, 2)\n",
    "plt.plot(loss, label='Training Loss')\n",
    "plt.plot(val_loss, label='Validation Loss')\n",
    "plt.legend(loc='upper right')\n",
    "plt.ylabel('Cross Entropy')\n",
    "plt.title('Training and Validation Loss')\n",
    "plt.xlabel('epoch')\n",
    "plt.show()"
   ]
  },
  {
   "cell_type": "markdown",
   "metadata": {
    "colab_type": "text",
    "id": "sqUG8I1F7JV8"
   },
   "source": [
    "accurancy is very low. As next step we could try different trainable layers and simplify the trainable part. Thus we could test the perfomance of MobileNetV2 itself. Or to train the whole MobileNetV2 from scratch. "
   ]
  },
  {
   "cell_type": "markdown",
   "metadata": {
    "colab_type": "text",
    "id": "uwXm9Lh97JV9"
   },
   "source": [
    "# Model 2\n",
    "Model 2 is using the same pretrained model MobileNetV2 but only changing the output layer. It could be used as a refernce how the ready model is working."
   ]
  },
  {
   "cell_type": "code",
   "execution_count": 0,
   "metadata": {
    "colab": {},
    "colab_type": "code",
    "id": "9FxXYgc_7JV-"
   },
   "outputs": [],
   "source": [
    "# Base model with MobileNetV2\n",
    "#detailes about MobileNetv2 https://arxiv.org/abs/1801.04381\n",
    "#IMG_SHAPE = (IMAGE_SIZE, IMAGE_SIZE, 3)\n",
    "\n",
    "#base_model2 = tf.keras.applications.MobileNetV2(input_shape=IMG_SHAPE,\n",
    "#                                               include_top=False, \n",
    "#                                               weights='imagenet')\n",
    "#base_model2.trainable = False"
   ]
  },
  {
   "cell_type": "code",
   "execution_count": 0,
   "metadata": {
    "colab": {},
    "colab_type": "code",
    "id": "hJ6wJGZalZZN"
   },
   "outputs": [],
   "source": [
    "#crete tensor board logs\n",
    "log_dir=\"drive/My Drive/MusicDeepL/logsModel2/fit/\" + datetime.datetime.now().strftime(\"%Y%m%d-%H%M%S\")\n",
    "tensorboard_callback = tf.keras.callbacks.TensorBoard(log_dir=log_dir, histogram_freq=1)"
   ]
  },
  {
   "cell_type": "code",
   "execution_count": 24,
   "metadata": {
    "colab": {
     "base_uri": "https://localhost:8080/",
     "height": 286
    },
    "colab_type": "code",
    "executionInfo": {
     "elapsed": 2211,
     "status": "ok",
     "timestamp": 1579772119587,
     "user": {
      "displayName": "Emil Georgiev",
      "photoUrl": "",
      "userId": "03754323831483749823"
     },
     "user_tz": -120
    },
    "id": "mrfeH2Yp7JWB",
    "outputId": "ed861637-7b34-4079-c619-52222a7ea402"
   },
   "outputs": [
    {
     "name": "stdout",
     "output_type": "stream",
     "text": [
      "Model: \"sequential_1\"\n",
      "_________________________________________________________________\n",
      "Layer (type)                 Output Shape              Param #   \n",
      "=================================================================\n",
      "mobilenetv2_1.00_224 (Model) (None, 7, 7, 1280)        2257984   \n",
      "_________________________________________________________________\n",
      "max_pooling2d_1 (MaxPooling2 (None, 3, 3, 1280)        0         \n",
      "_________________________________________________________________\n",
      "flatten_1 (Flatten)          (None, 11520)             0         \n",
      "_________________________________________________________________\n",
      "dense_2 (Dense)              (None, 8)                 92168     \n",
      "=================================================================\n",
      "Total params: 2,350,152\n",
      "Trainable params: 92,168\n",
      "Non-trainable params: 2,257,984\n",
      "_________________________________________________________________\n"
     ]
    }
   ],
   "source": [
    "model2 = tf.keras.Sequential([\n",
    "    base_model,\n",
    "    MaxPool2D(),\n",
    "    Flatten(),\n",
    "    Dense(8, activation='sigmoid')\n",
    "])\n",
    "\n",
    "\n",
    "model2.compile(optimizer=tf.keras.optimizers.Adam(lr=learning_rate),\n",
    "             loss='categorical_crossentropy',\n",
    "             metrics=['accuracy'])\n",
    "\n",
    "model2.summary()"
   ]
  },
  {
   "cell_type": "markdown",
   "metadata": {
    "colab_type": "text",
    "id": "JaLMaEle7JWD"
   },
   "source": [
    "### Train model 2"
   ]
  },
  {
   "cell_type": "code",
   "execution_count": 25,
   "metadata": {
    "colab": {
     "base_uri": "https://localhost:8080/",
     "height": 1000
    },
    "colab_type": "code",
    "executionInfo": {
     "elapsed": 962074,
     "status": "ok",
     "timestamp": 1579773085801,
     "user": {
      "displayName": "Emil Georgiev",
      "photoUrl": "",
      "userId": "03754323831483749823"
     },
     "user_tz": -120
    },
    "id": "okxRg2Cc7JWD",
    "outputId": "80705f7b-0360-4a0d-8b76-f5f1f4489f06"
   },
   "outputs": [
    {
     "name": "stdout",
     "output_type": "stream",
     "text": [
      "Train for 225 steps, validate for 30 steps\n",
      "Epoch 1/30\n",
      "225/225 [==============================] - 38s 170ms/step - loss: 75.0516 - accuracy: 0.9887 - val_loss: 75.1545 - val_accuracy: 1.0000\n",
      "Epoch 2/30\n",
      "225/225 [==============================] - 32s 142ms/step - loss: 74.7559 - accuracy: 1.0000 - val_loss: 75.1545 - val_accuracy: 1.0000\n",
      "Epoch 3/30\n",
      "225/225 [==============================] - 33s 146ms/step - loss: 74.7559 - accuracy: 1.0000 - val_loss: 75.1545 - val_accuracy: 1.0000\n",
      "Epoch 4/30\n",
      "225/225 [==============================] - 33s 149ms/step - loss: 74.7559 - accuracy: 1.0000 - val_loss: 75.1545 - val_accuracy: 1.0000\n",
      "Epoch 5/30\n",
      "225/225 [==============================] - 31s 138ms/step - loss: 74.7559 - accuracy: 1.0000 - val_loss: 75.1545 - val_accuracy: 1.0000\n",
      "Epoch 6/30\n",
      "225/225 [==============================] - 32s 143ms/step - loss: 74.7559 - accuracy: 1.0000 - val_loss: 75.1545 - val_accuracy: 1.0000\n",
      "Epoch 7/30\n",
      "225/225 [==============================] - 31s 139ms/step - loss: 74.7559 - accuracy: 1.0000 - val_loss: 75.1545 - val_accuracy: 1.0000\n",
      "Epoch 8/30\n",
      "225/225 [==============================] - 33s 147ms/step - loss: 74.7559 - accuracy: 1.0000 - val_loss: 75.1545 - val_accuracy: 1.0000\n",
      "Epoch 9/30\n",
      "225/225 [==============================] - 32s 142ms/step - loss: 74.7559 - accuracy: 1.0000 - val_loss: 75.1545 - val_accuracy: 1.0000\n",
      "Epoch 10/30\n",
      "225/225 [==============================] - 33s 145ms/step - loss: 74.7559 - accuracy: 1.0000 - val_loss: 75.1545 - val_accuracy: 1.0000\n",
      "Epoch 11/30\n",
      "225/225 [==============================] - 33s 147ms/step - loss: 74.7559 - accuracy: 1.0000 - val_loss: 75.1545 - val_accuracy: 1.0000\n",
      "Epoch 12/30\n",
      "225/225 [==============================] - 32s 142ms/step - loss: 74.7559 - accuracy: 1.0000 - val_loss: 75.1545 - val_accuracy: 1.0000\n",
      "Epoch 13/30\n",
      "225/225 [==============================] - 32s 140ms/step - loss: 74.7559 - accuracy: 1.0000 - val_loss: 75.1545 - val_accuracy: 1.0000\n",
      "Epoch 14/30\n",
      "225/225 [==============================] - 32s 142ms/step - loss: 74.7559 - accuracy: 1.0000 - val_loss: 75.1545 - val_accuracy: 1.0000\n",
      "Epoch 15/30\n",
      "225/225 [==============================] - 31s 139ms/step - loss: 74.7559 - accuracy: 1.0000 - val_loss: 75.1545 - val_accuracy: 1.0000\n",
      "Epoch 16/30\n",
      "225/225 [==============================] - 31s 139ms/step - loss: 74.7559 - accuracy: 1.0000 - val_loss: 75.1545 - val_accuracy: 1.0000\n",
      "Epoch 17/30\n",
      "225/225 [==============================] - 31s 136ms/step - loss: 74.7559 - accuracy: 1.0000 - val_loss: 75.1545 - val_accuracy: 1.0000\n",
      "Epoch 18/30\n",
      "225/225 [==============================] - 33s 146ms/step - loss: 74.7559 - accuracy: 1.0000 - val_loss: 75.1545 - val_accuracy: 1.0000\n",
      "Epoch 19/30\n",
      "225/225 [==============================] - 32s 142ms/step - loss: 74.7559 - accuracy: 1.0000 - val_loss: 75.1545 - val_accuracy: 1.0000\n",
      "Epoch 20/30\n",
      "225/225 [==============================] - 33s 146ms/step - loss: 74.7559 - accuracy: 1.0000 - val_loss: 75.1545 - val_accuracy: 1.0000\n",
      "Epoch 21/30\n",
      "225/225 [==============================] - 33s 146ms/step - loss: 74.7559 - accuracy: 1.0000 - val_loss: 75.1545 - val_accuracy: 1.0000\n",
      "Epoch 22/30\n",
      "225/225 [==============================] - 31s 139ms/step - loss: 74.7559 - accuracy: 1.0000 - val_loss: 75.1545 - val_accuracy: 1.0000\n",
      "Epoch 23/30\n",
      "225/225 [==============================] - 31s 137ms/step - loss: 74.7559 - accuracy: 1.0000 - val_loss: 75.1545 - val_accuracy: 1.0000\n",
      "Epoch 24/30\n",
      "225/225 [==============================] - 31s 136ms/step - loss: 74.7559 - accuracy: 1.0000 - val_loss: 75.1545 - val_accuracy: 1.0000\n",
      "Epoch 25/30\n",
      "225/225 [==============================] - 31s 140ms/step - loss: 74.7559 - accuracy: 1.0000 - val_loss: 75.1545 - val_accuracy: 1.0000\n",
      "Epoch 26/30\n",
      "225/225 [==============================] - 32s 142ms/step - loss: 74.7559 - accuracy: 1.0000 - val_loss: 75.1545 - val_accuracy: 1.0000\n",
      "Epoch 27/30\n",
      "225/225 [==============================] - 31s 136ms/step - loss: 74.7559 - accuracy: 1.0000 - val_loss: 75.1545 - val_accuracy: 1.0000\n",
      "Epoch 28/30\n",
      "225/225 [==============================] - 30s 132ms/step - loss: 74.7559 - accuracy: 1.0000 - val_loss: 75.1545 - val_accuracy: 1.0000\n",
      "Epoch 29/30\n",
      "225/225 [==============================] - 32s 142ms/step - loss: 74.7559 - accuracy: 1.0000 - val_loss: 75.1545 - val_accuracy: 1.0000\n",
      "Epoch 30/30\n",
      "225/225 [==============================] - 31s 138ms/step - loss: 74.7559 - accuracy: 1.0000 - val_loss: 75.1545 - val_accuracy: 1.0000\n"
     ]
    }
   ],
   "source": [
    "history2 = model2.fit(train_data.repeat(),\n",
    "                    epochs=num_epochs,\n",
    "                    steps_per_epoch = steps_per_epoch,\n",
    "                    validation_data=val_data.repeat(), \n",
    "                    validation_steps=val_steps,\n",
    "                    callbacks=[tensorboard_callback])"
   ]
  },
  {
   "cell_type": "code",
   "execution_count": 0,
   "metadata": {
    "colab": {},
    "colab_type": "code",
    "id": "JqtF9JTY7JWF"
   },
   "outputs": [],
   "source": [
    "# Save model weights\n",
    "model2.save_weights('drive/My Drive/MusicDeepL/weights_model_2.h5')"
   ]
  },
  {
   "cell_type": "code",
   "execution_count": 29,
   "metadata": {
    "colab": {
     "base_uri": "https://localhost:8080/",
     "height": 513
    },
    "colab_type": "code",
    "executionInfo": {
     "elapsed": 1165,
     "status": "ok",
     "timestamp": 1579773158201,
     "user": {
      "displayName": "Emil Georgiev",
      "photoUrl": "",
      "userId": "03754323831483749823"
     },
     "user_tz": -120
    },
    "id": "ki0RbEXa7JWH",
    "outputId": "ea88219d-0465-4034-cf61-0d9155622474"
   },
   "outputs": [
    {
     "data": {
      "image/png": "[encoded data removed]",
      "text/plain": [
       "<Figure size 576x576 with 2 Axes>"
      ]
     },
     "metadata": {
      "tags": []
     },
     "output_type": "display_data"
    }
   ],
   "source": [
    "acc = history2.history['accuracy']\n",
    "val_acc = history2.history['val_accuracy']\n",
    "\n",
    "loss = history2.history['loss']\n",
    "val_loss = history2.history['val_loss']\n",
    "\n",
    "plt.figure(figsize=(8, 8))\n",
    "plt.subplot(2, 1, 1)\n",
    "plt.plot(acc, label='Training Accuracy')\n",
    "plt.plot(val_acc, label='Validation Accuracy')\n",
    "plt.legend(loc='lower right')\n",
    "plt.ylabel('Accuracy')\n",
    "plt.title('Training and Validation Accuracy')\n",
    "\n",
    "plt.subplot(2, 1, 2)\n",
    "plt.plot(loss, label='Training Loss')\n",
    "plt.plot(val_loss, label='Validation Loss')\n",
    "plt.legend(loc='upper right')\n",
    "plt.ylabel('Cross Entropy')\n",
    "plt.title('Training and Validation Loss')\n",
    "plt.xlabel('epoch')\n",
    "plt.show()"
   ]
  },
  {
   "cell_type": "markdown",
   "metadata": {
    "colab_type": "text",
    "id": "pXY_Yp7B6TDx"
   },
   "source": [
    "Traing Accuracy is good but validation accuracy is lower than 50%. Input data might be bad or sample to be low numbers. I will change the number of epochs and learning rate. "
   ]
  },
  {
   "cell_type": "markdown",
   "metadata": {
    "colab_type": "text",
    "id": "eiXtdyst7JWI"
   },
   "source": [
    "# Model 3\n",
    "This model was build from scratch. In general it has more trainable parameters than the other models. \n"
   ]
  },
  {
   "cell_type": "code",
   "execution_count": 0,
   "metadata": {
    "colab": {},
    "colab_type": "code",
    "id": "duRa-C_tbSnm"
   },
   "outputs": [],
   "source": [
    "#This is the same function as used earlier with only differnece that normalization is from 0 to 1. \n",
    "def _parse_fn_255(filename, label):\n",
    "    image_string = tf.io.read_file(filename)\n",
    "    image_decoded = tf.image.decode_jpeg(image_string)\n",
    "    image_normalized = (tf.cast(image_decoded, tf.float32)/255)\n",
    "    image_resized = tf.image.resize(image_normalized, (IMAGE_SIZE, IMAGE_SIZE))\n",
    "    return image_resized, label"
   ]
  },
  {
   "cell_type": "code",
   "execution_count": 0,
   "metadata": {
    "colab": {},
    "colab_type": "code",
    "id": "Lxga3AZybnEY"
   },
   "outputs": [],
   "source": [
    "#train tf.dataset from pipelines\n",
    "train_data = tf.data.Dataset.from_tensor_slices((tf.constant(train_filenames), tf.constant(train_labels))).map(_parse_fn_255).shuffle(buffer_size=num_train).batch(BATCH_SIZE)\n",
    "#valiation tf.dataset from pipelines\n",
    "val_data = tf.data.Dataset.from_tensor_slices((tf.constant(val_filenames), tf.constant(val_labels))).map(_parse_fn_255).batch(BATCH_SIZE)"
   ]
  },
  {
   "cell_type": "code",
   "execution_count": 0,
   "metadata": {
    "colab": {},
    "colab_type": "code",
    "id": "BVkrAAmOl5U0"
   },
   "outputs": [],
   "source": [
    "#crete tensor board logs\n",
    "log_dir=\"drive/My Drive/MusicDeepL/logsModel3/fit/\" + datetime.datetime.now().strftime(\"%Y%m%d-%H%M%S\")\n",
    "tensorboard_callback = tf.keras.callbacks.TensorBoard(log_dir=log_dir, histogram_freq=1)"
   ]
  },
  {
   "cell_type": "code",
   "execution_count": 0,
   "metadata": {
    "colab": {},
    "colab_type": "code",
    "id": "NUopYo-O7JWJ"
   },
   "outputs": [],
   "source": [
    "conv_model = tf.keras.Sequential([\n",
    "    Input(shape= (IMAGE_SIZE,IMAGE_SIZE,3)),\n",
    "    Conv2D(filters=32, kernel_size=3, padding = \"same\", activation = \"relu\"),\n",
    "    BatchNormalization(),\n",
    "    MaxPool2D(),\n",
    "    Conv2D(filters=64, kernel_size=3, padding = \"same\", activation = \"relu\"),\n",
    "    BatchNormalization(),\n",
    "    MaxPool2D(),\n",
    "    Conv2D(filters=128, kernel_size=3, padding = \"same\", activation = \"relu\"),\n",
    "    BatchNormalization(),\n",
    "    MaxPool2D(),\n",
    "    Flatten(),\n",
    "    Dense(128, activation = \"relu\"),\n",
    "    BatchNormalization(),\n",
    "    Dropout(0.1),\n",
    "    Dense(64, activation = \"relu\"),\n",
    "    Dropout(0.1),\n",
    "    Dense(8, activation = \"sigmoid\"),\n",
    "\n",
    "])"
   ]
  },
  {
   "cell_type": "code",
   "execution_count": 34,
   "metadata": {
    "colab": {
     "base_uri": "https://localhost:8080/",
     "height": 689
    },
    "colab_type": "code",
    "executionInfo": {
     "elapsed": 771,
     "status": "ok",
     "timestamp": 1579773190538,
     "user": {
      "displayName": "Emil Georgiev",
      "photoUrl": "",
      "userId": "03754323831483749823"
     },
     "user_tz": -120
    },
    "id": "GNIB4d6e7JWM",
    "outputId": "fcfdd713-cc94-488f-8dbb-82d3bd88ea54"
   },
   "outputs": [
    {
     "name": "stdout",
     "output_type": "stream",
     "text": [
      "Model: \"sequential_2\"\n",
      "_________________________________________________________________\n",
      "Layer (type)                 Output Shape              Param #   \n",
      "=================================================================\n",
      "conv2d (Conv2D)              (None, 224, 224, 32)      896       \n",
      "_________________________________________________________________\n",
      "batch_normalization_1 (Batch (None, 224, 224, 32)      128       \n",
      "_________________________________________________________________\n",
      "max_pooling2d_2 (MaxPooling2 (None, 112, 112, 32)      0         \n",
      "_________________________________________________________________\n",
      "conv2d_1 (Conv2D)            (None, 112, 112, 64)      18496     \n",
      "_________________________________________________________________\n",
      "batch_normalization_2 (Batch (None, 112, 112, 64)      256       \n",
      "_________________________________________________________________\n",
      "max_pooling2d_3 (MaxPooling2 (None, 56, 56, 64)        0         \n",
      "_________________________________________________________________\n",
      "conv2d_2 (Conv2D)            (None, 56, 56, 128)       73856     \n",
      "_________________________________________________________________\n",
      "batch_normalization_3 (Batch (None, 56, 56, 128)       512       \n",
      "_________________________________________________________________\n",
      "max_pooling2d_4 (MaxPooling2 (None, 28, 28, 128)       0         \n",
      "_________________________________________________________________\n",
      "flatten_2 (Flatten)          (None, 100352)            0         \n",
      "_________________________________________________________________\n",
      "dense_3 (Dense)              (None, 128)               12845184  \n",
      "_________________________________________________________________\n",
      "batch_normalization_4 (Batch (None, 128)               512       \n",
      "_________________________________________________________________\n",
      "dropout_1 (Dropout)          (None, 128)               0         \n",
      "_________________________________________________________________\n",
      "dense_4 (Dense)              (None, 64)                8256      \n",
      "_________________________________________________________________\n",
      "dropout_2 (Dropout)          (None, 64)                0         \n",
      "_________________________________________________________________\n",
      "dense_5 (Dense)              (None, 8)                 520       \n",
      "=================================================================\n",
      "Total params: 12,948,616\n",
      "Trainable params: 12,947,912\n",
      "Non-trainable params: 704\n",
      "_________________________________________________________________\n"
     ]
    }
   ],
   "source": [
    "conv_model.summary()"
   ]
  },
  {
   "cell_type": "code",
   "execution_count": 0,
   "metadata": {
    "colab": {},
    "colab_type": "code",
    "id": "YmqeWkXdM_Tc"
   },
   "outputs": [],
   "source": [
    "conv_model.compile(optimizer=tf.keras.optimizers.Adam(lr=learning_rate),\n",
    "             loss='categorical_crossentropy',\n",
    "             metrics=['accuracy'])"
   ]
  },
  {
   "cell_type": "markdown",
   "metadata": {
    "colab_type": "text",
    "id": "KpnOUkKNl-jg"
   },
   "source": [
    "# Train model3"
   ]
  },
  {
   "cell_type": "code",
   "execution_count": 36,
   "metadata": {
    "colab": {
     "base_uri": "https://localhost:8080/",
     "height": 1000
    },
    "colab_type": "code",
    "executionInfo": {
     "elapsed": 1113961,
     "status": "ok",
     "timestamp": 1579774314382,
     "user": {
      "displayName": "Emil Georgiev",
      "photoUrl": "",
      "userId": "03754323831483749823"
     },
     "user_tz": -120
    },
    "id": "Vu1ruDKn7JWO",
    "outputId": "18d4f378-1c38-4c74-9be1-8bcfd8f88cb4"
   },
   "outputs": [
    {
     "name": "stdout",
     "output_type": "stream",
     "text": [
      "Train for 225 steps, validate for 30 steps\n",
      "Epoch 1/30\n",
      "225/225 [==============================] - 41s 183ms/step - loss: 74.8939 - accuracy: 0.1596 - val_loss: 75.3193 - val_accuracy: 1.0000\n",
      "Epoch 2/30\n",
      "225/225 [==============================] - 36s 159ms/step - loss: 74.7710 - accuracy: 0.1935 - val_loss: 75.3884 - val_accuracy: 0.0292\n",
      "Epoch 3/30\n",
      "225/225 [==============================] - 37s 163ms/step - loss: 74.7632 - accuracy: 0.1549 - val_loss: 75.2048 - val_accuracy: 0.1167\n",
      "Epoch 4/30\n",
      "225/225 [==============================] - 36s 162ms/step - loss: 74.7604 - accuracy: 0.1606 - val_loss: 75.1692 - val_accuracy: 0.1646\n",
      "Epoch 5/30\n",
      "225/225 [==============================] - 35s 157ms/step - loss: 74.7588 - accuracy: 0.1669 - val_loss: 75.1578 - val_accuracy: 0.1052\n",
      "Epoch 6/30\n",
      "225/225 [==============================] - 36s 162ms/step - loss: 74.7582 - accuracy: 0.1711 - val_loss: 75.1551 - val_accuracy: 0.1187\n",
      "Epoch 7/30\n",
      "225/225 [==============================] - 37s 167ms/step - loss: 74.7574 - accuracy: 0.1903 - val_loss: 75.1609 - val_accuracy: 0.0323\n",
      "Epoch 8/30\n",
      "225/225 [==============================] - 38s 169ms/step - loss: 74.7570 - accuracy: 0.2056 - val_loss: 75.1575 - val_accuracy: 0.2083\n",
      "Epoch 9/30\n",
      "225/225 [==============================] - 38s 169ms/step - loss: 74.7567 - accuracy: 0.2078 - val_loss: 75.1546 - val_accuracy: 0.1417\n",
      "Epoch 10/30\n",
      "225/225 [==============================] - 39s 171ms/step - loss: 74.7566 - accuracy: 0.2201 - val_loss: 75.1546 - val_accuracy: 0.2427\n",
      "Epoch 11/30\n",
      "225/225 [==============================] - 38s 168ms/step - loss: 74.7564 - accuracy: 0.2193 - val_loss: 75.1545 - val_accuracy: 0.3750\n",
      "Epoch 12/30\n",
      "225/225 [==============================] - 38s 167ms/step - loss: 74.7563 - accuracy: 0.2572 - val_loss: 75.1545 - val_accuracy: 0.2740\n",
      "Epoch 13/30\n",
      "225/225 [==============================] - 36s 161ms/step - loss: 74.7562 - accuracy: 0.2596 - val_loss: 75.1545 - val_accuracy: 0.3344\n",
      "Epoch 14/30\n",
      "225/225 [==============================] - 36s 161ms/step - loss: 74.7562 - accuracy: 0.2396 - val_loss: 75.1545 - val_accuracy: 0.2469\n",
      "Epoch 15/30\n",
      "225/225 [==============================] - 37s 163ms/step - loss: 74.7561 - accuracy: 0.2467 - val_loss: 75.1545 - val_accuracy: 0.3729\n",
      "Epoch 16/30\n",
      "225/225 [==============================] - 38s 168ms/step - loss: 74.7561 - accuracy: 0.2481 - val_loss: 75.1545 - val_accuracy: 0.3823\n",
      "Epoch 17/30\n",
      "225/225 [==============================] - 38s 168ms/step - loss: 74.7561 - accuracy: 0.2357 - val_loss: 75.1545 - val_accuracy: 0.1490\n",
      "Epoch 18/30\n",
      "225/225 [==============================] - 38s 170ms/step - loss: 74.7560 - accuracy: 0.2086 - val_loss: 75.1545 - val_accuracy: 0.2208\n",
      "Epoch 19/30\n",
      "225/225 [==============================] - 38s 169ms/step - loss: 74.7560 - accuracy: 0.1951 - val_loss: 75.1545 - val_accuracy: 0.2167\n",
      "Epoch 20/30\n",
      "225/225 [==============================] - 38s 169ms/step - loss: 74.7560 - accuracy: 0.1813 - val_loss: 75.1545 - val_accuracy: 0.1010\n",
      "Epoch 21/30\n",
      "225/225 [==============================] - 38s 168ms/step - loss: 74.7560 - accuracy: 0.2242 - val_loss: 75.1545 - val_accuracy: 0.2427\n",
      "Epoch 22/30\n",
      "225/225 [==============================] - 38s 169ms/step - loss: 74.7560 - accuracy: 0.2049 - val_loss: 75.1545 - val_accuracy: 0.2438\n",
      "Epoch 23/30\n",
      "225/225 [==============================] - 37s 163ms/step - loss: 74.7560 - accuracy: 0.2078 - val_loss: 75.1545 - val_accuracy: 0.3646\n",
      "Epoch 24/30\n",
      "225/225 [==============================] - 37s 164ms/step - loss: 74.7560 - accuracy: 0.2221 - val_loss: 75.1545 - val_accuracy: 0.0969\n",
      "Epoch 25/30\n",
      "225/225 [==============================] - 36s 160ms/step - loss: 74.7560 - accuracy: 0.1956 - val_loss: 75.1545 - val_accuracy: 0.0708\n",
      "Epoch 26/30\n",
      "225/225 [==============================] - 36s 159ms/step - loss: 74.7560 - accuracy: 0.2406 - val_loss: 75.1545 - val_accuracy: 0.1688\n",
      "Epoch 27/30\n",
      "225/225 [==============================] - 36s 158ms/step - loss: 74.7560 - accuracy: 0.2200 - val_loss: 75.1545 - val_accuracy: 0.1323\n",
      "Epoch 28/30\n",
      "225/225 [==============================] - 36s 159ms/step - loss: 74.7559 - accuracy: 0.1958 - val_loss: 75.1545 - val_accuracy: 0.1104\n",
      "Epoch 29/30\n",
      "225/225 [==============================] - 36s 159ms/step - loss: 74.7559 - accuracy: 0.1974 - val_loss: 75.1545 - val_accuracy: 0.1646\n",
      "Epoch 30/30\n",
      "225/225 [==============================] - 36s 159ms/step - loss: 74.7560 - accuracy: 0.2147 - val_loss: 75.1545 - val_accuracy: 0.1219\n"
     ]
    }
   ],
   "source": [
    "history3 = conv_model.fit(train_data.repeat(),\n",
    "                    epochs=num_epochs,\n",
    "                    steps_per_epoch = steps_per_epoch,\n",
    "                    validation_data=val_data.repeat(), \n",
    "                    validation_steps=val_steps,\n",
    "                    callbacks=[tensorboard_callback])"
   ]
  },
  {
   "cell_type": "code",
   "execution_count": 0,
   "metadata": {
    "colab": {},
    "colab_type": "code",
    "id": "vsCNHKNa7JWQ"
   },
   "outputs": [],
   "source": [
    "# Save model weights\n",
    "conv_model.save_weights('drive/My Drive/MusicDeepL/weights_model_3.h5')"
   ]
  },
  {
   "cell_type": "code",
   "execution_count": 38,
   "metadata": {
    "colab": {
     "base_uri": "https://localhost:8080/",
     "height": 513
    },
    "colab_type": "code",
    "executionInfo": {
     "elapsed": 1215,
     "status": "ok",
     "timestamp": 1579774465430,
     "user": {
      "displayName": "Emil Georgiev",
      "photoUrl": "",
      "userId": "03754323831483749823"
     },
     "user_tz": -120
    },
    "id": "C8H9L7zk7JWS",
    "outputId": "3fd198e3-a154-438a-e4ab-bdcb5b52a92b"
   },
   "outputs": [
    {
     "data": {
      "image/png": "[encoded data removed]",
      "text/plain": [
       "<Figure size 576x576 with 2 Axes>"
      ]
     },
     "metadata": {
      "tags": []
     },
     "output_type": "display_data"
    }
   ],
   "source": [
    "acc = history3.history['accuracy']\n",
    "val_acc = history3.history['val_accuracy']\n",
    "\n",
    "loss = history3.history['loss']\n",
    "val_loss = history3.history['val_loss']\n",
    "\n",
    "plt.figure(figsize=(8, 8))\n",
    "plt.subplot(2, 1, 1)\n",
    "plt.plot(acc, label='Training Accuracy')\n",
    "plt.plot(val_acc, label='Validation Accuracy')\n",
    "plt.legend(loc='lower right')\n",
    "plt.ylabel('Accuracy')\n",
    "plt.title('Training and Validation Accuracy')\n",
    "\n",
    "plt.subplot(2, 1, 2)\n",
    "plt.plot(loss, label='Training Loss')\n",
    "plt.plot(val_loss, label='Validation Loss')\n",
    "plt.legend(loc='upper right')\n",
    "plt.ylabel('Cross Entropy')\n",
    "plt.title('Training and Validation Loss')\n",
    "plt.xlabel('epoch')\n",
    "plt.show()"
   ]
  },
  {
   "cell_type": "markdown",
   "metadata": {
    "colab_type": "text",
    "id": "eZumwblAS89h"
   },
   "source": [
    "# Fine Tune"
   ]
  },
  {
   "cell_type": "markdown",
   "metadata": {
    "colab_type": "text",
    "id": "lsYBo1Yqcg_N"
   },
   "source": [
    "Based on the models used the pretrained model2 gave best results. MobileNetV2 was developed to have two classes so as a minimum I have change the classification layer to work with more classes. Model 1 and Model2 were based on MobleNetV2. Model 1 has much more complexity as we have added dense layers but it does not gave the best resutls. \n",
    "Model 3 was build from scratch. Obvously it needs optimization. \n",
    "\n",
    "1. As a fist step we could change the learning rate for model3.\n",
    "2. Add more training epochs\n",
    "3. Used bigger dataset. Two options: split the music files in 10 sec samples (tripple the data size), use bigger data set (we are using FMA small with 8K samples). It would need more time as reported problem with Librosa was slowing the process over time and even crashing due to memory shortage. \n",
    "4. Test different Neural network structure\n",
    "5. Maybe the image was resized quite a lot to 224 pixes and some infomration is missing?! \n",
    "6. Unfreeze MobileNetV2 initial layers and train the models from scratch.\n",
    "7. Use other pretrained model similar to MobileNetV2.\n",
    "\n",
    "In general good think is that the data input that I have created is not garbage. \n",
    "I have decreased the performance of MobileNetV2 by adding layers! "
   ]
  }
 ],
 "metadata": {
  "accelerator": "GPU",
  "colab": {
   "collapsed_sections": [],
   "name": "MusicClassificationv3.ipynb",
   "provenance": [
    {
     "file_id": "12_SqXNfrsdF49cXKdhrYCS2DsavNk-6v",
     "timestamp": 1579526459488
    },
    {
     "file_id": "1w_nGKb11xgNwiDWJ4PqYwUFhrY0NLgP2",
     "timestamp": 1579505819731
    },
    {
     "file_id": "1xIa61z0E_QEj_yyqoTlwoyh8yS2mXJEo",
     "timestamp": 1579278295389
    }
   ],
   "toc_visible": true
  },
  "kernelspec": {
   "display_name": "Python 3",
   "language": "python",
   "name": "python3"
  },
  "language_info": {
   "codemirror_mode": {
    "name": "ipython",
    "version": 3
   },
   "file_extension": ".py",
   "mimetype": "text/x-python",
   "name": "python",
   "nbconvert_exporter": "python",
   "pygments_lexer": "ipython3",
   "version": "3.6.8"
  }
 },
 "nbformat": 4,
 "nbformat_minor": 1
}
